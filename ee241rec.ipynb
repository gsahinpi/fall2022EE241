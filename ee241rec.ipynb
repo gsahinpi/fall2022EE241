{
 "cells": [
  {
   "attachments": {},
   "cell_type": "markdown",
   "metadata": {},
   "source": [
    "1) (20)ou are given the following multiplication module\n",
    "module unsigned_mult (out, a, b);\n",
    "output [15:0] out;\n",
    "\tinput  [7:0] a;\n",
    "\tinput  [7:0] b;\n",
    "\n",
    "\tassign out = a * b;\n",
    "\n",
    "endmodule\n",
    "\n",
    "Write down a test bench to test the module\n",
    "Deliverables \n",
    "Your Verilog Project\n",
    "\n",
    "2) 80 Exponentiation is defined as \n",
    "\n",
    "${\\displaystyle b^{n}=\\underbrace {b\\times b\\times \\dots \\times b\\times b} _{n{\\text{ times}}}.}$\n",
    "\n",
    "You are to design and implement a system in verilog which can  calculate $\\displaystyle b^{n}$ where b and n are 4bit unsigned integers.\n",
    "\n",
    "a) 10 pseudo code or c code \n",
    "b) draw the datapath clearly\n",
    "c)implement the datapath and a proper test bench in verilog\n",
    "d) draw high level fsm state chart for the controller and  convert it to  fsm state chart\n",
    "e) implement the controller and a proper test bench in verilog\n",
    "f) implement the overall sytem which has two inputs (other than reset and clk) b and n and one output $\\displaystyle b^{n}$"
   ]
  },
  {
   "cell_type": "markdown",
   "metadata": {},
   "source": []
  }
 ],
 "metadata": {
  "kernelspec": {
   "display_name": "stat-rethink2-pymc3",
   "language": "python",
   "name": "python3"
  },
  "language_info": {
   "name": "python",
   "version": "3.9.7 (default, Sep 16 2021, 16:59:28) [MSC v.1916 64 bit (AMD64)]"
  },
  "orig_nbformat": 4,
  "vscode": {
   "interpreter": {
    "hash": "842ba19b99a329f723fc5bdff1764ab82c0d0a973e36b9a2c33c09ab2436cb09"
   }
  }
 },
 "nbformat": 4,
 "nbformat_minor": 2
}
